{
 "cells": [
  {
   "cell_type": "markdown",
   "id": "7881ef25-fec6-4acc-a614-9e234586380d",
   "metadata": {},
   "source": [
    "#### Validation of Model Trained on New Dataset\n",
    "No hyperparameter tuning"
   ]
  },
  {
   "cell_type": "code",
   "execution_count": 2,
   "id": "3ce57ccc-f182-43eb-be3a-2a33ac9caf61",
   "metadata": {},
   "outputs": [],
   "source": [
    "from ultralytics import YOLO"
   ]
  },
  {
   "cell_type": "code",
   "execution_count": 4,
   "id": "7d5530d3-0b7b-4c62-87c3-a32aac964332",
   "metadata": {},
   "outputs": [],
   "source": [
    "# set model as first model trained on new dataset\n",
    "model = YOLO(\"C:/Users/jamie/Python Projects/Dissertation/Task/datasets/WSP-9/First expanded dataset model/first_expanded_dataset_model.pt\")"
   ]
  },
  {
   "cell_type": "code",
   "execution_count": 8,
   "id": "c578261f-9474-4012-9cf5-a3dd476873c0",
   "metadata": {},
   "outputs": [
    {
     "name": "stderr",
     "output_type": "stream",
     "text": [
      "Ultralytics YOLOv8.0.196  Python-3.11.7 torch-2.3.1+cpu CPU (AMD Ryzen 7 5800H with Radeon Graphics)\n",
      "Model summary (fused): 268 layers, 68132235 parameters, 0 gradients, 257.4 GFLOPs\n",
      "\u001b[34m\u001b[1mval: \u001b[0mScanning C:\\Users\\jamie\\Python Projects\\Dissertation\\Task\\datasets\\WSP-9\\valid\\labels.cache... 359 images, 14 back\u001b[0m\n",
      "                 Class     Images  Instances      Box(P          R      mAP50  mAP50-95): 100%|██████████| 23/23 [06:23\n",
      "                   all        359       2011      0.838      0.777      0.832       0.68\n",
      "           Articulated        359        113      0.826       0.85      0.866      0.712\n",
      "                   Bus        359         89      0.923      0.814      0.879       0.76\n",
      "                   Car        359       1251      0.888      0.882      0.933      0.632\n",
      "                 Coach        359         29      0.954       0.72       0.81      0.736\n",
      "                   LGV        359        273      0.837      0.769      0.838      0.661\n",
      "          Rigid 2 Axle        359        168      0.852      0.738      0.822      0.631\n",
      "          Rigid 3 Axle        359         17      0.542      0.529      0.641      0.558\n",
      "          Rigid 4 Axle        359         42      0.911      0.976       0.98      0.864\n",
      "                  Taxi        359         29      0.805      0.711       0.72      0.562\n",
      "Speed: 4.2ms preprocess, 1053.0ms inference, 0.0ms loss, 0.5ms postprocess per image\n",
      "Results saved to \u001b[1mruns\\detect\\val\u001b[0m\n"
     ]
    }
   ],
   "source": [
    "# validate model\n",
    "metrics = model.val(data=\"C:/Users/jamie/Python Projects/Dissertation/Task/datasets/WSP-9/data.yaml\")"
   ]
  },
  {
   "cell_type": "code",
   "execution_count": 12,
   "id": "538e72a7-3e48-4632-b81c-2232ffcfaa60",
   "metadata": {},
   "outputs": [],
   "source": [
    "# function for calculating mAP50 for all classes, priority classes and lower-priority classes\n",
    "def calc_map50_class_groups(metrics_object):\n",
    "    priority_classes = [metrics_object.box.ap50[4], metrics_object.box.ap50[5], metrics_object.box.ap50[6], metrics_object.box.ap50[7]]\n",
    "    lower_priority_classes = [metrics_object.box.ap50[2], metrics_object.box.ap50[8], metrics_object.box.ap50[1], \n",
    "                              metrics_object.box.ap50[3], metrics_object.box.ap50[0]]\n",
    "    priority_class_map50 = round(sum(priority_classes)/len(priority_classes),3)\n",
    "    lower_priority_class_map50 = round(sum(lower_priority_classes)/len(lower_priority_classes),3)\n",
    "    print(f\"mAP50 for all classes is {round(metrics_object.box.map50,3)}\")\n",
    "    print(f\"mAP50 for priority classes is {priority_class_map50}\")\n",
    "    print(f\"mAP50 for lower-priority classes is {lower_priority_class_map50}\")"
   ]
  },
  {
   "cell_type": "code",
   "execution_count": 14,
   "id": "66621521-dec7-4c2c-98dc-2ffc556090fc",
   "metadata": {},
   "outputs": [
    {
     "name": "stdout",
     "output_type": "stream",
     "text": [
      "mAP50 for all classes is 0.832\n",
      "mAP50 for priority classes is 0.82\n",
      "mAP50 for lower-priority classes is 0.841\n"
     ]
    }
   ],
   "source": [
    "# calculate mAp50 for the three categories\n",
    "calc_map50_class_groups(metrics)"
   ]
  }
 ],
 "metadata": {
  "kernelspec": {
   "display_name": "Python 3 (ipykernel)",
   "language": "python",
   "name": "python3"
  },
  "language_info": {
   "codemirror_mode": {
    "name": "ipython",
    "version": 3
   },
   "file_extension": ".py",
   "mimetype": "text/x-python",
   "name": "python",
   "nbconvert_exporter": "python",
   "pygments_lexer": "ipython3",
   "version": "3.11.7"
  }
 },
 "nbformat": 4,
 "nbformat_minor": 5
}
